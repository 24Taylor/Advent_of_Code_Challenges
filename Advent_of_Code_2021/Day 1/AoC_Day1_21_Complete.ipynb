{
 "cells": [
  {
   "cell_type": "markdown",
   "id": "12ac1054",
   "metadata": {},
   "source": [
    "<img style=\"float: center\" src=\"https://cdn.catawiki.net/assets/marketing/landing_page/block/images-attachments/2819-207ffd7a8a849eac5d3d8c2ec9d8f3001436c3a9-og_image.jpg\" width=\"1000\" height=\"650\">\n",
    "<!-- <div align=\"center\"; style=\"font-size:30px\">Advent of Code 2021</div> -->\n",
    "\n",
    "**Date Completed:** 1st December 2021\n",
    "\n",
    "**Challenge:** 1\n",
    "\n",
    "**Language:** Javascript"
   ]
  },
  {
   "cell_type": "markdown",
   "id": "0816a5af",
   "metadata": {},
   "source": [
    "---\n",
    "---\n",
    "\n",
    "## --- Day 1: Sonar Sweep ---\n",
    "\n",
    "### **Tasks**\n",
    "\n",
    "**PART 1** How many measurements are larger than the previous measurement?\n",
    "To begin, get your puzzle input.\n",
    "\n",
    "**PART 2** Consider sums of a three-measurement sliding window. How many sums are larger than the previous sum?"
   ]
  },
  {
   "cell_type": "code",
   "execution_count": 2,
   "id": "6b1a646e",
   "metadata": {
    "ExecuteTime": {
     "end_time": "2021-12-01T22:53:32.938468Z",
     "start_time": "2021-12-01T22:53:32.928Z"
    }
   },
   "outputs": [
    {
     "name": "stdout",
     "output_type": "stream",
     "text": [
      "1387\n",
      "1362\n"
     ]
    }
   ],
   "source": [
    "const fs = require('fs');\n",
    "fs.readFile('AoC_Day1_PuzzleInput.txt' , (err, data2) => {\n",
    "    if (err) throw err;\n",
    "\n",
    "    const string = data2.toString().split(/\\r?\\n/)\n",
    "    const integer = string.map(n => parseInt(n))\n",
    "    \n",
    "    console.log(IncreaseMeasurements(string))\n",
    "    console.log(SlidingWindowMeasures(string))\n",
    "    \n",
    "});\n",
    "\n",
    "\n",
    "// PART 1\n",
    "function IncreaseMeasurements(data){\n",
    "    let increases = 1;\n",
    "\n",
    "    for(let i = 1 ; i < data.length ; i++){\n",
    "        if(data[i - (1)] < data[i]){\n",
    "            increases++;\n",
    "        }\n",
    "    }\n",
    "    return increases\n",
    "}\n",
    "\n",
    "\n",
    "// PART 2\n",
    "function SlidingWindowMeasures(data){\n",
    "    let increases = 3;\n",
    "\n",
    "    for(let i = 3 ; i < data.length ; i++){\n",
    "\n",
    "        if(data[i - 3] < data[i]){\n",
    "            increases++;\n",
    "        }\n",
    "    }\n",
    "    return increases\n",
    "}"
   ]
  },
  {
   "cell_type": "code",
   "execution_count": 3,
   "id": "63b3a3fd",
   "metadata": {
    "ExecuteTime": {
     "end_time": "2021-12-01T22:54:18.616438Z",
     "start_time": "2021-12-01T22:54:18.606Z"
    }
   },
   "outputs": [
    {
     "name": "stdout",
     "output_type": "stream",
     "text": [
      "Challenge 1 Complete! - Thankyou, Happy Advent of Code 2021 :D\n"
     ]
    }
   ],
   "source": [
    "function completeFunc(){\n",
    "    console.log(\"Challenge 1 Complete! - Thankyou, Happy Advent of Code 2021 :D\")\n",
    "}\n",
    "    \n",
    "completeFunc()"
   ]
  }
 ],
 "metadata": {
  "kernelspec": {
   "display_name": "JavaScript (Node.js)",
   "language": "javascript",
   "name": "javascript"
  },
  "language_info": {
   "file_extension": ".js",
   "mimetype": "application/javascript",
   "name": "javascript",
   "version": "16.13.1"
  }
 },
 "nbformat": 4,
 "nbformat_minor": 5
}
