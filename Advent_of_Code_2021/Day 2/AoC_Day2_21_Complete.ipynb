{
 "cells": [
  {
   "cell_type": "markdown",
   "id": "12ac1054",
   "metadata": {},
   "source": [
    "<img style=\"float: center\" src=\"https://cdn.catawiki.net/assets/marketing/landing_page/block/images-attachments/2819-207ffd7a8a849eac5d3d8c2ec9d8f3001436c3a9-og_image.jpg\" width=\"1000\" height=\"650\">\n",
    "<!-- <div align=\"center\"; style=\"font-size:30px\">Advent of Code 2021</div> -->\n",
    "\n",
    "**Date Completed:** 2nd December 2021\n",
    "\n",
    "**Challenge:** 2"
   ]
  },
  {
   "cell_type": "markdown",
   "id": "0816a5af",
   "metadata": {},
   "source": [
    "---\n",
    "---\n",
    "\n",
    "## --- Day 2: Dive! ---\n",
    "## Part 1\n",
    "\n",
    "Now, you need to figure out how to pilot this thing.\n",
    "\n",
    "It seems like the submarine can take a series of commands like forward 1, down 2, or up 3:\n",
    "\n",
    "- forward X increases the horizontal position by X units.\n",
    "- down X increases the depth by X units.\n",
    "- up X decreases the depth by X units.\n",
    "\n",
    "Note that since you're on a submarine, down and up affect your depth, and so they have the opposite result of what you might expect.\n",
    "\n",
    "The submarine seems to already have a planned course (your puzzle input). You should probably figure out where it's going. For example:\n",
    "\n",
    "* forward 5\n",
    "* down 5\n",
    "* forward 8\n",
    "* up 3\n",
    "* down 8\n",
    "* forward 2\n",
    "\n",
    "Your horizontal position and depth both start at 0. The steps above would then modify them as follows:\n",
    "\n",
    "\n",
    "* forward 5 adds 5 to your horizontal position, a total of 5.\n",
    "* down 5 adds 5 to your depth, resulting in a value of 5.\n",
    "* forward 8 adds 8 to your horizontal position, a total of 13.\n",
    "* up 3 decreases your depth by 3, resulting in a value of 2.\n",
    "* down 8 adds 8 to your depth, resulting in a value of 10.\n",
    "* forward 2 adds 2 to your horizontal position, a total of 15.\n",
    "\n",
    "After following these instructions, you would have a horizontal position of 15 and a depth of 10. (Multiplying these together produces 150.)\n",
    "\n",
    "\n",
    "---\n",
    "### **Task**\n",
    "\n",
    "1. Calculate the horizontal position and depth you would have after following the planned course. \n",
    "2. What do you get if you multiply your final horizontal position by your final depth?"
   ]
  },
  {
   "cell_type": "markdown",
   "id": "394ad058",
   "metadata": {},
   "source": [
    "### Observing the Data"
   ]
  },
  {
   "cell_type": "code",
   "execution_count": 1,
   "id": "ef4773c7",
   "metadata": {
    "ExecuteTime": {
     "end_time": "2021-12-03T03:22:05.644392Z",
     "start_time": "2021-12-03T03:22:04.780061Z"
    }
   },
   "outputs": [],
   "source": [
    "import numpy as np\n",
    "import pandas as pd"
   ]
  },
  {
   "cell_type": "code",
   "execution_count": 2,
   "id": "c58a8c4d",
   "metadata": {
    "ExecuteTime": {
     "end_time": "2021-12-03T03:22:05.706700Z",
     "start_time": "2021-12-03T03:22:05.649291Z"
    }
   },
   "outputs": [
    {
     "name": "stdout",
     "output_type": "stream",
     "text": [
      "       Commands\n",
      "count      1000\n",
      "unique       27\n",
      "top      down 9\n",
      "freq         59\n"
     ]
    },
    {
     "data": {
      "text/html": [
       "<div>\n",
       "<style scoped>\n",
       "    .dataframe tbody tr th:only-of-type {\n",
       "        vertical-align: middle;\n",
       "    }\n",
       "\n",
       "    .dataframe tbody tr th {\n",
       "        vertical-align: top;\n",
       "    }\n",
       "\n",
       "    .dataframe thead th {\n",
       "        text-align: right;\n",
       "    }\n",
       "</style>\n",
       "<table border=\"1\" class=\"dataframe\">\n",
       "  <thead>\n",
       "    <tr style=\"text-align: right;\">\n",
       "      <th></th>\n",
       "      <th>Commands</th>\n",
       "    </tr>\n",
       "  </thead>\n",
       "  <tbody>\n",
       "    <tr>\n",
       "      <th>0</th>\n",
       "      <td>forward 1</td>\n",
       "    </tr>\n",
       "    <tr>\n",
       "      <th>1</th>\n",
       "      <td>down 6</td>\n",
       "    </tr>\n",
       "    <tr>\n",
       "      <th>2</th>\n",
       "      <td>down 6</td>\n",
       "    </tr>\n",
       "    <tr>\n",
       "      <th>3</th>\n",
       "      <td>forward 2</td>\n",
       "    </tr>\n",
       "    <tr>\n",
       "      <th>4</th>\n",
       "      <td>forward 2</td>\n",
       "    </tr>\n",
       "    <tr>\n",
       "      <th>5</th>\n",
       "      <td>down 2</td>\n",
       "    </tr>\n",
       "    <tr>\n",
       "      <th>6</th>\n",
       "      <td>down 1</td>\n",
       "    </tr>\n",
       "    <tr>\n",
       "      <th>7</th>\n",
       "      <td>down 5</td>\n",
       "    </tr>\n",
       "    <tr>\n",
       "      <th>8</th>\n",
       "      <td>down 7</td>\n",
       "    </tr>\n",
       "    <tr>\n",
       "      <th>9</th>\n",
       "      <td>down 3</td>\n",
       "    </tr>\n",
       "    <tr>\n",
       "      <th>10</th>\n",
       "      <td>forward 1</td>\n",
       "    </tr>\n",
       "    <tr>\n",
       "      <th>11</th>\n",
       "      <td>forward 6</td>\n",
       "    </tr>\n",
       "    <tr>\n",
       "      <th>12</th>\n",
       "      <td>up 2</td>\n",
       "    </tr>\n",
       "    <tr>\n",
       "      <th>13</th>\n",
       "      <td>forward 2</td>\n",
       "    </tr>\n",
       "    <tr>\n",
       "      <th>14</th>\n",
       "      <td>forward 7</td>\n",
       "    </tr>\n",
       "  </tbody>\n",
       "</table>\n",
       "</div>"
      ],
      "text/plain": [
       "     Commands\n",
       "0   forward 1\n",
       "1      down 6\n",
       "2      down 6\n",
       "3   forward 2\n",
       "4   forward 2\n",
       "5      down 2\n",
       "6      down 1\n",
       "7      down 5\n",
       "8      down 7\n",
       "9      down 3\n",
       "10  forward 1\n",
       "11  forward 6\n",
       "12       up 2\n",
       "13  forward 2\n",
       "14  forward 7"
      ]
     },
     "execution_count": 2,
     "metadata": {},
     "output_type": "execute_result"
    }
   ],
   "source": [
    "# Load puzzle input data\n",
    "data = pd.read_csv('AoC_Day2_Input.txt', usecols=['Commands'])\n",
    "print(data.describe())\n",
    "data.head(15)"
   ]
  },
  {
   "cell_type": "code",
   "execution_count": 3,
   "id": "9d13e00d",
   "metadata": {
    "ExecuteTime": {
     "end_time": "2021-12-03T03:22:05.736331Z",
     "start_time": "2021-12-03T03:22:05.710637Z"
    }
   },
   "outputs": [
    {
     "name": "stdout",
     "output_type": "stream",
     "text": [
      "down 1       47\n",
      "down 2       45\n",
      "down 3       49\n",
      "down 4       40\n",
      "down 5       54\n",
      "down 6       53\n",
      "down 7       49\n",
      "down 8       39\n",
      "down 9       59\n",
      "forward 1    43\n",
      "forward 2    41\n",
      "forward 3    54\n",
      "forward 4    42\n",
      "forward 5    35\n",
      "forward 6    38\n",
      "forward 7    29\n",
      "forward 8    36\n",
      "forward 9    49\n",
      "up 1         21\n",
      "up 2         20\n",
      "up 3         24\n",
      "up 4         24\n",
      "up 5         21\n",
      "up 6         17\n",
      "up 7         29\n",
      "up 8         21\n",
      "up 9         21\n",
      "Name: Commands, dtype: int64\n",
      "<class 'str'>\n"
     ]
    }
   ],
   "source": [
    "# Shows all the different types of commands possible & their frequencies.\n",
    "print(data.Commands.value_counts().sort_index())\n",
    "print(type('Commands'))"
   ]
  },
  {
   "cell_type": "markdown",
   "id": "6a79c2d9",
   "metadata": {},
   "source": [
    "---\n",
    "### Calculating the Value for Forward/Horizontal Position Only."
   ]
  },
  {
   "cell_type": "code",
   "execution_count": 4,
   "id": "68b1c6fc",
   "metadata": {
    "ExecuteTime": {
     "end_time": "2021-12-03T03:22:05.767378Z",
     "start_time": "2021-12-03T03:22:05.745605Z"
    }
   },
   "outputs": [
    {
     "name": "stdout",
     "output_type": "stream",
     "text": [
      "Horizontal position is 1790\n"
     ]
    }
   ],
   "source": [
    "start = 0\n",
    "forward_values = []\n",
    "depth_values = []\n",
    "\n",
    "def get_horizontal_position(input_data):\n",
    "    for item in data['Commands']:\n",
    "        forward = start\n",
    "        if item == 'forward 1':\n",
    "            forward = start + 1\n",
    "            forward_values.append(forward)\n",
    "        elif item == 'forward 2':\n",
    "            forward = forward + 2\n",
    "            forward_values.append(forward)\n",
    "        elif item == 'forward 3':\n",
    "            forward = forward + 3\n",
    "            forward_values.append(forward)\n",
    "        elif item == 'forward 4':\n",
    "            forward = forward + 4\n",
    "            forward_values.append(forward)\n",
    "        elif item == 'forward 5':\n",
    "            forward = forward + 5\n",
    "            forward_values.append(forward)\n",
    "        elif item == 'forward 6':\n",
    "            forward = forward + 6\n",
    "            forward_values.append(forward)\n",
    "        elif item == 'forward 7':\n",
    "            forward = forward + 7\n",
    "            forward_values.append(forward)\n",
    "        elif item == 'forward 8':\n",
    "            forward = forward + 8\n",
    "            forward_values.append(forward)\n",
    "        elif item == 'forward 9':\n",
    "            forward = forward + 9\n",
    "            forward_values.append(forward)\n",
    "        else:\n",
    "            depth_values.append(item)\n",
    "\n",
    "    sum_of_forward_values = sum(forward_values)\n",
    "    print(\"Horizontal position is\", sum_of_forward_values)\n",
    "\n",
    "get_horizontal_position(data)"
   ]
  },
  {
   "cell_type": "code",
   "execution_count": 5,
   "id": "89db3c45",
   "metadata": {
    "ExecuteTime": {
     "end_time": "2021-12-03T03:22:05.799266Z",
     "start_time": "2021-12-03T03:22:05.775353Z"
    }
   },
   "outputs": [
    {
     "name": "stdout",
     "output_type": "stream",
     "text": [
      "[1, 2, 2, 1, 6, 2, 7, 4, 6, 6, 2, 8, 8, 9, 9, 9, 8, 8, 5, 6, 1, 1, 3, 3, 2, 2, 6, 5, 5, 9, 6, 3, 9, 8, 5, 7, 3, 1, 1, 4, 9, 4, 8, 6, 1, 6, 9, 2, 2, 5, 7, 3, 6, 8, 3, 1, 9, 1, 9, 7, 4, 7, 3, 9, 3, 1, 6, 9, 9, 7, 7, 8, 6, 5, 7, 6, 5, 2, 7, 3, 8, 4, 5, 6, 9, 5, 7, 3, 5, 9, 6, 4, 3, 4, 1, 8, 1, 5, 2, 6, 7, 4, 7, 5, 1, 3, 1, 8, 2, 3, 3, 9, 4, 8, 9, 6, 4, 5, 9, 4, 8, 6, 1, 4, 1, 3, 3, 1, 8, 8, 3, 3, 2, 5, 2, 8, 9, 5, 6, 6, 9, 7, 4, 8, 4, 8, 1, 4, 6, 3, 5, 8, 9, 3, 5, 2, 5, 4, 5, 8, 6, 3, 1, 8, 1, 1, 2, 9, 2, 3, 5, 1, 4, 8, 5, 4, 6, 2, 2, 5, 2, 6, 1, 4, 3, 7, 1, 1, 4, 5, 1, 6, 1, 6, 3, 2, 8, 1, 8, 4, 1, 9, 3, 5, 2, 5, 5, 2, 4, 7, 3, 2, 3, 2, 9, 5, 9, 7, 7, 3, 4, 8, 9, 4, 4, 3, 3, 9, 4, 4, 6, 6, 9, 4, 9, 4, 9, 5, 9, 7, 6, 9, 3, 9, 1, 9, 7, 2, 2, 8, 4, 2, 5, 8, 3, 9, 5, 8, 1, 9, 8, 3, 5, 8, 7, 5, 1, 5, 4, 9, 2, 2, 9, 4, 6, 8, 2, 8, 4, 3, 9, 2, 3, 9, 2, 4, 3, 4, 2, 4, 9, 6, 5, 3, 2, 3, 3, 6, 3, 7, 2, 9, 4, 1, 3, 1, 9, 6, 8, 9, 7, 1, 7, 9, 1, 6, 2, 9, 1, 1, 3, 4, 7, 4, 9, 6, 3, 4, 3, 9, 2, 1, 4, 3, 8, 4, 9, 3, 7, 1, 6, 3, 2, 2, 1, 3, 6, 5, 7, 7, 1, 6, 2, 3, 7, 3, 9, 6, 3, 8, 3, 2, 3, 1, 8, 7, 3] \n",
      "\n",
      "There are a total of 367 forward commands.\n"
     ]
    }
   ],
   "source": [
    "# Sanity Check - Should print list of all forward values\n",
    "print(forward_values, \"\\n\")\n",
    "print(f\"There are a total of {len(forward_values)} forward commands.\")"
   ]
  },
  {
   "cell_type": "code",
   "execution_count": 6,
   "id": "346cb5b1",
   "metadata": {
    "ExecuteTime": {
     "end_time": "2021-12-03T03:22:05.814601Z",
     "start_time": "2021-12-03T03:22:05.803291Z"
    }
   },
   "outputs": [
    {
     "name": "stdout",
     "output_type": "stream",
     "text": [
      "['down 6', 'down 6', 'down 2', 'down 1', 'down 5', 'down 7', 'down 3', 'up 2', 'down 2', 'down 3', 'up 7', 'down 6', 'up 5', 'down 7', 'down 8', 'down 5', 'down 5', 'down 8', 'down 7', 'down 6', 'down 9', 'down 1', 'down 6', 'down 7', 'up 3', 'down 1', 'down 7', 'up 8', 'down 2', 'down 9', 'down 9', 'down 2', 'down 9', 'down 6', 'up 7', 'down 7', 'down 4', 'down 3', 'up 7', 'up 7', 'down 7', 'down 3', 'up 7', 'down 7', 'down 2', 'down 7', 'down 9', 'down 2', 'up 7', 'down 1', 'down 5', 'down 6', 'down 3', 'down 7', 'down 8', 'down 3', 'up 4', 'down 6', 'up 7', 'up 2', 'up 1', 'down 5', 'up 3', 'up 4', 'down 7', 'down 8', 'down 3', 'down 7', 'up 6', 'down 4', 'down 8', 'down 8', 'down 5', 'down 1', 'up 1', 'up 8', 'down 7', 'down 9', 'down 1', 'down 2', 'down 1', 'down 4', 'down 1', 'up 9', 'down 9', 'down 6', 'down 8', 'down 6', 'up 7', 'up 2', 'down 2', 'up 2', 'up 9', 'down 6', 'down 5', 'up 4', 'down 1', 'down 5', 'down 6', 'up 7', 'down 3', 'down 9', 'up 8', 'down 2', 'up 8', 'down 1', 'down 2', 'down 4', 'up 7', 'up 3', 'down 9', 'down 8', 'up 5', 'down 5', 'up 2', 'down 5', 'up 4', 'down 6', 'down 1', 'down 1', 'down 2', 'up 5', 'down 7', 'down 9', 'down 5', 'down 3', 'down 2', 'up 4', 'down 9', 'down 1', 'down 5', 'down 3', 'down 2', 'up 7', 'down 7', 'up 4', 'up 2', 'down 2', 'down 9', 'down 3', 'down 3', 'down 9', 'up 4', 'down 4', 'down 3', 'up 7', 'up 1', 'up 4', 'down 3', 'down 5', 'down 3', 'down 7', 'down 3', 'down 7', 'down 5', 'down 1', 'down 1', 'down 4', 'up 1', 'up 6', 'down 4', 'up 7', 'down 4', 'down 9', 'up 8', 'down 9', 'down 1', 'down 7', 'down 9', 'down 5', 'down 1', 'down 2', 'up 4', 'up 7', 'down 8', 'down 8', 'down 8', 'up 8', 'down 6', 'down 6', 'down 9', 'down 4', 'up 4', 'up 5', 'down 7', 'down 7', 'down 5', 'down 3', 'down 2', 'down 5', 'down 4', 'down 8', 'up 8', 'down 7', 'down 8', 'down 5', 'down 6', 'down 4', 'up 3', 'down 4', 'up 5', 'up 9', 'down 3', 'up 4', 'down 9', 'down 2', 'down 2', 'down 5', 'down 2', 'up 1', 'up 5', 'up 3', 'up 8', 'down 7', 'up 7', 'down 6', 'down 7', 'down 9', 'up 2', 'down 1', 'down 9', 'down 6', 'up 1', 'down 5', 'up 1', 'down 1', 'down 4', 'down 4', 'up 9', 'down 6', 'up 6', 'up 1', 'down 7', 'up 8', 'up 3', 'up 7', 'down 9', 'down 3', 'up 2', 'up 4', 'up 3', 'down 5', 'down 3', 'up 4', 'down 9', 'down 8', 'down 3', 'down 5', 'down 7', 'up 9', 'down 4', 'down 8', 'down 2', 'up 4', 'down 7', 'up 9', 'down 9', 'down 5', 'down 5', 'down 3', 'up 6', 'up 6', 'down 7', 'up 1', 'down 5', 'down 5', 'down 8', 'down 7', 'down 6', 'down 4', 'up 8', 'down 4', 'up 5', 'up 7', 'up 2', 'down 5', 'down 9', 'down 7', 'down 9', 'down 3', 'up 4', 'down 8', 'down 9', 'down 1', 'up 1', 'down 9', 'up 9', 'down 1', 'down 5', 'down 6', 'up 5', 'up 4', 'up 9', 'up 4', 'down 7', 'down 6', 'down 9', 'down 3', 'down 2', 'down 6', 'up 6', 'up 3', 'down 3', 'down 2', 'down 9', 'down 3', 'down 2', 'down 9', 'down 6', 'up 3', 'down 6', 'down 9', 'down 8', 'down 2', 'up 3', 'up 5', 'up 8', 'down 4', 'up 3', 'down 5', 'up 4', 'down 7', 'up 7', 'down 2', 'down 7', 'down 9', 'down 4', 'down 5', 'up 5', 'down 8', 'down 1', 'down 6', 'down 8', 'up 6', 'down 8', 'down 4', 'down 4', 'up 8', 'down 1', 'down 5', 'down 9', 'down 9', 'down 5', 'down 4', 'up 6', 'down 4', 'down 2', 'down 5', 'down 2', 'down 6', 'down 9', 'up 6', 'up 7', 'down 7', 'up 1', 'down 8', 'down 9', 'down 4', 'down 5', 'down 8', 'up 3', 'down 9', 'up 2', 'down 1', 'down 8', 'down 6', 'down 8', 'down 3', 'down 9', 'down 3', 'up 3', 'up 1', 'down 5', 'up 3', 'down 3', 'up 2', 'up 3', 'down 8', 'up 5', 'up 5', 'down 6', 'up 2', 'up 3', 'down 5', 'down 4', 'up 2', 'down 5', 'up 7', 'down 9', 'up 8', 'down 4', 'up 5', 'down 8', 'down 5', 'down 5', 'down 8', 'up 9', 'down 2', 'down 1', 'up 3', 'down 9', 'up 6', 'down 1', 'down 1', 'down 5', 'down 1', 'down 7', 'down 4', 'down 9', 'up 1', 'up 7', 'up 2', 'down 8', 'up 5', 'down 6', 'down 4', 'up 5', 'up 7', 'up 1', 'down 7', 'down 5', 'up 9', 'down 4', 'down 9', 'down 2', 'down 3', 'down 3', 'down 8', 'down 4', 'down 8', 'down 6', 'down 6', 'down 9', 'up 5', 'down 3', 'down 4', 'up 6', 'up 2', 'up 9', 'up 9', 'down 3', 'up 5', 'down 2', 'down 8', 'up 3', 'up 8', 'down 5', 'down 1', 'down 8', 'down 7', 'up 6', 'up 5', 'down 2', 'up 9', 'up 7', 'down 8', 'down 3', 'down 3', 'down 9', 'down 9', 'down 9', 'down 2', 'down 7', 'down 4', 'up 8', 'down 2', 'up 1', 'down 1', 'up 5', 'up 6', 'down 5', 'up 9', 'up 6', 'down 6', 'down 4', 'down 3', 'up 6', 'down 3', 'down 1', 'up 1', 'up 9', 'up 6', 'up 5', 'down 6', 'up 8', 'up 9', 'down 7', 'down 6', 'down 7', 'down 5', 'down 2', 'down 6', 'down 2', 'down 5', 'down 3', 'down 7', 'down 6', 'down 5', 'up 2', 'up 9', 'down 5', 'up 9', 'up 2', 'down 6', 'down 3', 'down 5', 'down 1', 'up 4', 'up 1', 'down 4', 'down 1', 'down 7', 'down 9', 'down 3', 'up 7', 'down 2', 'down 6', 'down 3', 'up 1', 'down 6', 'down 2', 'up 4', 'up 3', 'down 5', 'down 9', 'down 3', 'down 6', 'up 9', 'down 4', 'down 6', 'down 2', 'down 2', 'up 8', 'down 9', 'up 7', 'up 8', 'down 9', 'down 4', 'down 6', 'down 1', 'down 9', 'down 1', 'up 7', 'up 3', 'up 7', 'down 2', 'down 4', 'down 7', 'down 6', 'down 5', 'down 8', 'down 9', 'up 3', 'down 7', 'up 3', 'down 1', 'down 6', 'up 2', 'down 3', 'up 8', 'down 7', 'down 6', 'up 1', 'down 3', 'up 6', 'down 6', 'down 8', 'up 4', 'down 8', 'up 4', 'up 3', 'down 5', 'up 8', 'up 4', 'down 1', 'down 3', 'down 9', 'down 7', 'up 5', 'down 1', 'down 2', 'down 2', 'down 6', 'down 5', 'up 9', 'down 1', 'down 3', 'down 1', 'down 6', 'down 4', 'up 7', 'down 7', 'down 8', 'down 9', 'down 6', 'down 1', 'down 7', 'down 2', 'up 1', 'up 2', 'down 3', 'down 4', 'up 2', 'down 5', 'down 4', 'down 9', 'down 6', 'down 9', 'down 7', 'down 2', 'up 3', 'down 1', 'down 5', 'down 1', 'down 3', 'down 3', 'down 1', 'down 7', 'up 4', 'down 1', 'down 6', 'up 9', 'down 9', 'down 9', 'up 1', 'down 8', 'down 6', 'down 1', 'up 7', 'down 1', 'down 2', 'up 8', 'down 9'] \n",
      "\n",
      "There are a total of 633 depth commands.\n"
     ]
    }
   ],
   "source": [
    "# Sanity Check - Should be only 'up' & 'down' values in list\n",
    "print(depth_values, \"\\n\")\n",
    "print(f\"There are a total of {len(depth_values)} depth commands.\")"
   ]
  },
  {
   "cell_type": "markdown",
   "id": "81901221",
   "metadata": {},
   "source": [
    "----"
   ]
  },
  {
   "cell_type": "markdown",
   "id": "f0306c59",
   "metadata": {},
   "source": [
    "### Calculating the Values for Up & Down Position (Overall Depth)."
   ]
  },
  {
   "cell_type": "code",
   "execution_count": 7,
   "id": "b2ae0fdc",
   "metadata": {
    "ExecuteTime": {
     "end_time": "2021-12-03T03:22:05.861457Z",
     "start_time": "2021-12-03T03:22:05.820240Z"
    }
   },
   "outputs": [
    {
     "name": "stdout",
     "output_type": "stream",
     "text": [
      "Sum of down positions is 2218\n"
     ]
    },
    {
     "data": {
      "text/plain": [
       "2218"
      ]
     },
     "execution_count": 7,
     "metadata": {},
     "output_type": "execute_result"
    }
   ],
   "source": [
    "# Getting the 'Down' position overall value\n",
    "start = 0\n",
    "disgard = []\n",
    "depth_position1 = []\n",
    "\n",
    "def get_down_values(input_data):\n",
    "    for item in data['Commands']:\n",
    "        down = start\n",
    "        if item == 'down 1':\n",
    "            down = start + 1\n",
    "            depth_position1.append(down)\n",
    "        elif item == 'down 2':\n",
    "            down = down + 2\n",
    "            depth_position1.append(down)\n",
    "        elif item == 'down 3':\n",
    "            down = down + 3\n",
    "            depth_position1.append(down)\n",
    "        elif item == 'down 4':\n",
    "            down = down + 4\n",
    "            depth_position1.append(down)\n",
    "        elif item == 'down 5':\n",
    "            down = down + 5\n",
    "            depth_position1.append(down)\n",
    "        elif item == 'down 6':\n",
    "            down = down + 6\n",
    "            depth_position1.append(down)\n",
    "        elif item == 'down 7':\n",
    "            down = down + 7\n",
    "            depth_position1.append(down)\n",
    "        elif item == 'down 8':\n",
    "            down = down + 8\n",
    "            depth_position1.append(down)\n",
    "        elif item == 'down 9':\n",
    "            down = down + 9\n",
    "            depth_position1.append(down)\n",
    "        else:\n",
    "            disgard.append(item)\n",
    "\n",
    "    sum_of_down_values = sum(depth_position1)\n",
    "    print(\"Sum of down positions is\", sum_of_down_values)\n",
    "    \n",
    "    return sum_of_down_values\n",
    "\n",
    "get_down_values(data)"
   ]
  },
  {
   "cell_type": "code",
   "execution_count": 8,
   "id": "d0e7f300",
   "metadata": {
    "ExecuteTime": {
     "end_time": "2021-12-03T03:22:05.892747Z",
     "start_time": "2021-12-03T03:22:05.867663Z"
    }
   },
   "outputs": [
    {
     "name": "stdout",
     "output_type": "stream",
     "text": [
      "Depth Position of Up values is 996\n"
     ]
    },
    {
     "data": {
      "text/plain": [
       "996"
      ]
     },
     "execution_count": 8,
     "metadata": {},
     "output_type": "execute_result"
    }
   ],
   "source": [
    "# Getting the 'Up' value total\n",
    "start = 0\n",
    "disgard2 = []\n",
    "depth_position2 = []\n",
    "\n",
    "def get_total_up_value(input_data):\n",
    "    for item in data['Commands']:\n",
    "        up = start\n",
    "        if item == 'up 1':\n",
    "            up = start + 1\n",
    "            depth_position2.append(up)\n",
    "        elif item == 'up 2':\n",
    "            up = up + 2\n",
    "            depth_position2.append(up)\n",
    "        elif item == 'up 3':\n",
    "            up = up + 3\n",
    "            depth_position2.append(up)\n",
    "        elif item == 'up 4':\n",
    "            up = up + 4\n",
    "            depth_position2.append(up)\n",
    "        elif item =='up 5':\n",
    "            up = up + 5\n",
    "            depth_position2.append(up)\n",
    "        elif item == 'up 6':\n",
    "            up = up + 6\n",
    "            depth_position2.append(up)\n",
    "        elif item == 'up 7':\n",
    "            up = up + 7\n",
    "            depth_position2.append(up)\n",
    "        elif item == 'up 8':\n",
    "            up = up + 8\n",
    "            depth_position2.append(up)\n",
    "        elif item == 'up 9':\n",
    "            up = up + 9\n",
    "            depth_position2.append(up)\n",
    "        else:\n",
    "            disgard2.append(item)\n",
    "\n",
    "    sum_of_up_values = sum(depth_position2)\n",
    "    print(\"Depth Position of Up values is\", sum_of_up_values)\n",
    "    \n",
    "    return sum_of_up_values\n",
    "\n",
    "get_total_up_value(data)"
   ]
  },
  {
   "cell_type": "markdown",
   "id": "f006e054",
   "metadata": {},
   "source": [
    "### Multiplication of Final Positional Values"
   ]
  },
  {
   "cell_type": "code",
   "execution_count": 9,
   "id": "014b41c4",
   "metadata": {
    "ExecuteTime": {
     "end_time": "2021-12-03T03:22:05.908222Z",
     "start_time": "2021-12-03T03:22:05.898720Z"
    }
   },
   "outputs": [
    {
     "name": "stdout",
     "output_type": "stream",
     "text": [
      " The answer to part 1 is: 2187380\n"
     ]
    }
   ],
   "source": [
    "depth_position = 2218 - 996\n",
    "horizontal_position = 1790    \n",
    "\n",
    "def multiplication(horizontal_value, depth_value):\n",
    "    answer = horizontal_value * depth_value\n",
    "    return answer\n",
    "\n",
    "Part_1_answer = multiplication(horizontal_position, depth_position)\n",
    "print(f\" The answer to part 1 is: {Part_1_answer}\")"
   ]
  },
  {
   "cell_type": "code",
   "execution_count": 10,
   "id": "006ba4cc",
   "metadata": {
    "ExecuteTime": {
     "end_time": "2021-12-03T03:22:05.923182Z",
     "start_time": "2021-12-03T03:22:05.915203Z"
    }
   },
   "outputs": [
    {
     "name": "stdout",
     "output_type": "stream",
     "text": [
      "Challenge 2 Pt 1 Complete! - Happy Advent of Code 2021 :D\n"
     ]
    }
   ],
   "source": [
    "def complete(task_number, part_number):\n",
    "    print(f\"Challenge {task_number} Pt {part_number} Complete! - Happy Advent of Code 2021 :D\")\n",
    "complete(2,1)"
   ]
  },
  {
   "cell_type": "markdown",
   "id": "59e7120e",
   "metadata": {},
   "source": [
    "---\n",
    "## Part 2\n",
    "\n",
    "Based on your calculations, the planned course doesn't seem to make any sense. You find the submarine manual and discover that the process is actually slightly more complicated.\n",
    "\n",
    "In addition to horizontal position and depth, you'll also need to track a third value, aim, which also starts at 0. The commands also mean something entirely different than you first thought:\n",
    "\n",
    "* down X increases your aim by X units.\n",
    "* up X decreases your aim by X units.\n",
    "* forward X does two things:\n",
    "* It increases your horizontal position by X units.\n",
    "* It increases your depth by your aim multiplied by X.\n",
    "\n",
    "Again note that since you're on a submarine, down and up do the opposite of what you might expect: \"down\" means aiming in the positive direction.\n",
    "\n",
    "Now, the above example does something different:\n",
    "\n",
    "* forward 5 adds 5 to your horizontal position, a total of 5. Because your aim is 0, your depth does not change.\n",
    "* down 5 adds 5 to your aim, resulting in a value of 5.\n",
    "* forward 8 adds 8 to your horizontal position, a total of 13. Because your aim is 5, your depth increases by 8*5=40.\n",
    "* up 3 decreases your aim by 3, resulting in a value of 2.\n",
    "* down 8 adds 8 to your aim, resulting in a value of 10.\n",
    "* forward 2 adds 2 to your horizontal position, a total of 15. Because your aim is 10, your depth increases by 2*10=20 to a total of 60.\n",
    "\n",
    "After following these new instructions, you would have a horizontal position of 15 and a depth of 60. (Multiplying these produces 900.)\n",
    "\n",
    "**TASK:** Using this new interpretation of the commands:\n",
    "1. Calculate the horizontal position and depth you would have after following the planned course.\n",
    "2. What do you get if you multiply your final horizontal position by your final depth?"
   ]
  },
  {
   "cell_type": "code",
   "execution_count": 11,
   "id": "0b6011f2",
   "metadata": {
    "ExecuteTime": {
     "end_time": "2021-12-03T03:22:05.954698Z",
     "start_time": "2021-12-03T03:22:05.932188Z"
    }
   },
   "outputs": [
    {
     "name": "stdout",
     "output_type": "stream",
     "text": [
      "[['forward', '1'], ['down', '6'], ['down', '6'], ['forward', '2'], ['forward', '2']]\n"
     ]
    }
   ],
   "source": [
    "# convert df to list format\n",
    "command = data.Commands.tolist()\n",
    "\n",
    "# Splits command into string and string number parts\n",
    "command_list = [items for element in command for items in element.split()]\n",
    "# print(command_list[:5]) # Sanity Check \n",
    "\n",
    "# Groups string and corresponding string number and creates nested lists.\n",
    "newer_list = [command_list[i:i+2] for i in range(0, len(command_list), 2)]\n",
    "print(newer_list[:5]) # Sanity Check"
   ]
  },
  {
   "cell_type": "code",
   "execution_count": 16,
   "id": "d5e17012",
   "metadata": {
    "ExecuteTime": {
     "end_time": "2021-12-03T03:35:48.690170Z",
     "start_time": "2021-12-03T03:35:48.669076Z"
    }
   },
   "outputs": [
    {
     "name": "stdout",
     "output_type": "stream",
     "text": [
      "{'forward': 1790, 'down': 2218, 'up': 996, 'depth': 1165563, 'aim': 1222, 'multiplication': 2086357770}\n",
      "\n",
      "The answer to Part 2 is: 2086357770\n"
     ]
    }
   ],
   "source": [
    "# Create dictionary to make use of key:value pairs\n",
    "default = {'forward':0, 'down':0, 'up':0, 'depth':0, 'aim': 0, 'multiplication':0}\n",
    "\n",
    "for element in newer_list:\n",
    "    word, number = element[0], int(element[1])\n",
    "    default[word] = default[word] + number\n",
    "    \n",
    "    if word == 'up': \n",
    "        default['aim'] -= number\n",
    "    elif word == 'down': \n",
    "        default['aim'] += number\n",
    "    else:\n",
    "        default['depth'] += (default['aim'] * number)\n",
    "            \n",
    "default['multiplication'] = default['forward'] * default['depth']\n",
    "print(default)\n",
    "print(f\"\\nThe answer to Part 2 is: {default['multiplication']}\")"
   ]
  },
  {
   "cell_type": "code",
   "execution_count": 13,
   "id": "b12e6e4b",
   "metadata": {
    "ExecuteTime": {
     "end_time": "2021-12-03T03:22:06.001105Z",
     "start_time": "2021-12-03T03:22:05.992523Z"
    }
   },
   "outputs": [
    {
     "name": "stdout",
     "output_type": "stream",
     "text": [
      "Challenge 2 Pt 2 Complete! - Happy Advent of Code 2021 :D\n"
     ]
    }
   ],
   "source": [
    "complete(2,2)"
   ]
  }
 ],
 "metadata": {
  "kernelspec": {
   "display_name": "Python 3 (ipykernel)",
   "language": "python",
   "name": "python3"
  },
  "language_info": {
   "codemirror_mode": {
    "name": "ipython",
    "version": 3
   },
   "file_extension": ".py",
   "mimetype": "text/x-python",
   "name": "python",
   "nbconvert_exporter": "python",
   "pygments_lexer": "ipython3",
   "version": "3.8.5"
  }
 },
 "nbformat": 4,
 "nbformat_minor": 5
}
